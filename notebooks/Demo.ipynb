{
 "cells": [
  {
   "cell_type": "markdown",
   "id": "ed6dd6a0",
   "metadata": {},
   "source": [
    "# 特征构造与测试\n",
    "\n",
    "本文档将叙述构造高频特征并快速测试的一般流程"
   ]
  },
  {
   "cell_type": "code",
   "execution_count": 2,
   "id": "4863e44b",
   "metadata": {},
   "outputs": [],
   "source": [
    "import numpy as np\n",
    "import pandas as pd\n",
    "import matplotlib.pyplot as plt\n",
    "import importlib\n",
    "import sys\n",
    "\n",
    "# 将你的本地路径添加在下面\n",
    "sys.path.append('C:/Users/HBG/Desktop/Repositories/High-Frequency-Predictor')\n",
    "sys.path.append('C:/Users/Administrator/Desktop/Repositories/High-Frequency-Predictor')\n",
    "\n",
    "from hfp.hfp import HFP"
   ]
  },
  {
   "cell_type": "code",
   "execution_count": 3,
   "id": "d48549fb",
   "metadata": {},
   "outputs": [],
   "source": [
    "import hfp.hfp\n",
    "importlib.reload(hfp.hfp)\n",
    "\n",
    "from hfp.hfp import HFP"
   ]
  },
  {
   "cell_type": "markdown",
   "id": "34572dea",
   "metadata": {},
   "source": [
    "#### 初始化测试器"
   ]
  },
  {
   "cell_type": "code",
   "execution_count": null,
   "id": "97c70736",
   "metadata": {},
   "outputs": [],
   "source": [
    "data_path = 'D:/Documents/学习资料/HFData'  # 原始数据的路径\n",
    "stock_num = 1  # 同时测试的股票数量。一只股票大约需要1G内存，请根据内存大小与cpu算力自行选择\n",
    "hfp = HFP(data_path=data_path)"
   ]
  }
 ],
 "metadata": {
  "kernelspec": {
   "display_name": "Python 3 (ipykernel)",
   "language": "python",
   "name": "python3"
  },
  "language_info": {
   "codemirror_mode": {
    "name": "ipython",
    "version": 3
   },
   "file_extension": ".py",
   "mimetype": "text/x-python",
   "name": "python",
   "nbconvert_exporter": "python",
   "pygments_lexer": "ipython3",
   "version": "3.9.7"
  }
 },
 "nbformat": 4,
 "nbformat_minor": 5
}
