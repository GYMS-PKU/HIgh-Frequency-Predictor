{
 "cells": [
  {
   "cell_type": "markdown",
   "id": "ed6dd6a0",
   "metadata": {},
   "source": [
    "# 特征构造与测试\n",
    "\n",
    "本文档将叙述构造高频特征并快速测试的一般流程"
   ]
  },
  {
   "cell_type": "code",
   "execution_count": 1,
   "id": "4863e44b",
   "metadata": {},
   "outputs": [],
   "source": [
    "import numpy as np\n",
    "import pandas as pd\n",
    "import matplotlib.pyplot as plt\n",
    "import importlib\n",
    "import sys\n",
    "\n",
    "# 将你的本地路径添加在下面\n",
    "sys.path.append('C:/Users/HBG/Desktop/Repositories/High-Frequency-Predictor')\n",
    "sys.path.append('C:/Users/Administrator/Desktop/Repositories/High-Frequency-Predictor')\n",
    "\n",
    "from hfp.hfp import HFP"
   ]
  },
  {
   "cell_type": "code",
   "execution_count": 2,
   "id": "d48549fb",
   "metadata": {},
   "outputs": [],
   "source": [
    "import hfp.hfp\n",
    "importlib.reload(hfp.hfp)\n",
    "\n",
    "from hfp.hfp import HFP"
   ]
  },
  {
   "cell_type": "markdown",
   "id": "34572dea",
   "metadata": {},
   "source": [
    "#### 初始化测试器"
   ]
  },
  {
   "cell_type": "code",
   "execution_count": 3,
   "id": "97c70736",
   "metadata": {},
   "outputs": [],
   "source": [
    "data_path = 'D:/Documents/学习资料/HFData'  # 原始数据的路径\n",
    "stock_num = 1  # 同时测试的股票数量。一只股票大约需要1G内存，请根据内存大小与cpu算力自行选择\n",
    "hfp = HFP(data_path=data_path)"
   ]
  },
  {
   "cell_type": "markdown",
   "id": "75cce4e5",
   "metadata": {},
   "source": [
    "### 快速构造测试特征\n",
    "\n",
    "#### 例子：反转\n",
    "在以下例子中，我们测试了负的过去30s的平均收益率对下一个三秒的中间价收益率的预测力，对于000002来说，时序平均相关系数为0.0632，为正的天数比例为0.8807，这说明高频收益率有较强的反转效应。通过调整shift字段可以查看对未来不同时间跨度的收益率的预测力。"
   ]
  },
  {
   "cell_type": "code",
   "execution_count": 11,
   "id": "68a9893f",
   "metadata": {},
   "outputs": [
    {
     "name": "stdout",
     "output_type": "stream",
     "text": [
      "000002.XSHE mean corr: 0.0632, positive_corr_ratio: 0.8807, corr_IR: 1.2437\n",
      "\n",
      "000002.XSHE mean corr: -0.0205, positive_corr_ratio: 0.3374, corr_IR: -0.5088\n"
     ]
    }
   ],
   "source": [
    "fml = 'neg{tsmean{ret,10}}'  # 具体的公式，字段意义详见文档\n",
    "stats = hfp.test_factor(fml, shift=1)  # shift表明对下几个三秒的收益率进行预测\n",
    "print()\n",
    "stats = hfp.test_factor(fml, shift=2)  "
   ]
  },
  {
   "cell_type": "markdown",
   "id": "f9a5f29f",
   "metadata": {},
   "source": [
    "#### 例子：买卖价差"
   ]
  },
  {
   "cell_type": "code",
   "execution_count": 17,
   "id": "637eece6",
   "metadata": {},
   "outputs": [
    {
     "name": "stdout",
     "output_type": "stream",
     "text": [
      "000002.XSHE mean corr: 0.0359, positive_corr_ratio: 0.9918, corr_IR: 2.1950\n"
     ]
    }
   ],
   "source": [
    "fml = 'tsmean{minus{BidSize1,OfferSize1},10}' \n",
    "stats = hfp.test_factor(fml, shift=1)"
   ]
  },
  {
   "cell_type": "code",
   "execution_count": null,
   "id": "0657824b",
   "metadata": {},
   "outputs": [],
   "source": []
  }
 ],
 "metadata": {
  "kernelspec": {
   "display_name": "Python 3 (ipykernel)",
   "language": "python",
   "name": "python3"
  },
  "language_info": {
   "codemirror_mode": {
    "name": "ipython",
    "version": 3
   },
   "file_extension": ".py",
   "mimetype": "text/x-python",
   "name": "python",
   "nbconvert_exporter": "python",
   "pygments_lexer": "ipython3",
   "version": "3.8.5"
  }
 },
 "nbformat": 4,
 "nbformat_minor": 5
}
